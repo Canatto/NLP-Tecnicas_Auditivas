{
 "cells": [
  {
   "cell_type": "code",
   "execution_count": 47,
   "metadata": {},
   "outputs": [],
   "source": [
    "#Leitura de cada arquivo\n",
    "arq_pdf = open(\".\\Transcrições\\Transcrição PDF.txt\", \"r\", encoding=\"utf8\")\n",
    "arq_mp3 = open(\".\\Transcrições\\AUD_UM_WAV2-WA0008 (online-audio-converter.com)_MP3.txt\", \"r\")\n",
    "arq_mp32 =open(\".\\Transcrições\\AUD_UM_WAV2-WA0008 (online-audio-converter.com)_WAV.txt\", \"r\")\n",
    "arq_wav = open(\".\\Transcrições\\AUD_UM-WA0008_WAV.txt\", \"r\")"
   ]
  },
  {
   "cell_type": "code",
   "execution_count": 48,
   "metadata": {},
   "outputs": [],
   "source": [
    "#Atribuindo textos a strings\n",
    "txt_pdf = arq_pdf.read()\n",
    "txt_mp3 = arq_mp3.read()\n",
    "txt_mp32 = arq_mp32.read()\n",
    "txt_wav = arq_wav.read()"
   ]
  },
  {
   "cell_type": "code",
   "execution_count": 54,
   "metadata": {},
   "outputs": [],
   "source": [
    "#Fechando os arquivos\n",
    "arq_pdf.close()\n",
    "arq_mp3.close()\n",
    "arq_mp32.close()\n",
    "arq_wav.close()"
   ]
  },
  {
   "cell_type": "code",
   "execution_count": 66,
   "metadata": {},
   "outputs": [],
   "source": [
    "#Definindo W\n",
    "word_list_pdf = txt_pdf.split(' ')\n",
    "W = len(word_list_pdf)"
   ]
  },
  {
   "cell_type": "code",
   "execution_count": 67,
   "metadata": {},
   "outputs": [],
   "source": [
    "#Montando lista de palavras dos textos\n",
    "word_list_mp3 = txt_mp3.split(' ')\n",
    "word_list_mp32 = txt_mp32.split(' ')\n",
    "word_list_wav = txt_wav.split(' ')"
   ]
  },
  {
   "cell_type": "code",
   "execution_count": 71,
   "metadata": {},
   "outputs": [
    {
     "name": "stdout",
     "output_type": "stream",
     "text": [
      "W: 713\n",
      "MP3: 780\n",
      "MP32: 779\n",
      "WAV: 778\n"
     ]
    }
   ],
   "source": [
    "#Visualização do total de palavras em cada lista\n",
    "print('W:',W)\n",
    "print('MP3:',len(word_list_mp3))\n",
    "print('MP32:',len(word_list_mp32))\n",
    "print('WAV:',len(word_list_wav))"
   ]
  },
  {
   "cell_type": "code",
   "execution_count": null,
   "metadata": {},
   "outputs": [],
   "source": []
  }
 ],
 "metadata": {
  "kernelspec": {
   "display_name": "Python 3",
   "language": "python",
   "name": "python3"
  },
  "language_info": {
   "codemirror_mode": {
    "name": "ipython",
    "version": 3
   },
   "file_extension": ".py",
   "mimetype": "text/x-python",
   "name": "python",
   "nbconvert_exporter": "python",
   "pygments_lexer": "ipython3",
   "version": "3.7.3"
  }
 },
 "nbformat": 4,
 "nbformat_minor": 2
}
